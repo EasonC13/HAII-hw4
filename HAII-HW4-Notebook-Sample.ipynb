{
 "cells": [
  {
   "cell_type": "markdown",
   "id": "deb265c3",
   "metadata": {},
   "source": [
    "# Preparation\n",
    "\n",
    "This part will help you get access to Gemini API and run your first prompting task.\n",
    "\n",
    "For a detailed API walkthrough, see [this documentation page](https://ai.google.dev/tutorials/python_quickstart).\n"
   ]
  },
  {
   "cell_type": "code",
   "execution_count": 1,
   "id": "baf0087e",
   "metadata": {},
   "outputs": [],
   "source": [
    "import sys\n",
    "import os\n",
    "import logging\n",
    "import pathlib\n",
    "import textwrap\n",
    "\n",
    "import google.generativeai as genai\n",
    "\n",
    "from IPython.display import display\n",
    "from IPython.display import Markdown\n",
    "\n",
    "\n",
    "def to_markdown(text):\n",
    "  text = text.replace('•', '  *')\n",
    "  return Markdown(textwrap.indent(text, '> ', predicate=lambda _: True))"
   ]
  },
  {
   "cell_type": "markdown",
   "id": "d8e372da",
   "metadata": {},
   "source": [
    "## Setup your API key\n",
    "Before you can use the Gemini API, you must first obtain an API key. If you don't already have one, create a key with one click in [Google AI Studio](https://makersuite.google.com/app/apikey). After obtaining the API key add it to your environment variables."
   ]
  },
  {
   "cell_type": "code",
   "execution_count": 16,
   "id": "0c48a3a2",
   "metadata": {},
   "outputs": [],
   "source": [
    "GOOGLE_API_KEY=os.getenv('GOOGLE_API_KEY')\n",
    "genai.configure(api_key=GOOGLE_API_KEY)"
   ]
  },
  {
   "cell_type": "markdown",
   "id": "ec1bfa6a",
   "metadata": {},
   "source": [
    "## List models\n",
    "\n",
    "Now you're ready to call the Gemini API. Use list_models to see the available Gemini models:\n"
   ]
  },
  {
   "cell_type": "code",
   "execution_count": 18,
   "id": "62ce6ba5",
   "metadata": {},
   "outputs": [
    {
     "name": "stdout",
     "output_type": "stream",
     "text": [
      "models/gemini-1.0-pro\n",
      "models/gemini-1.0-pro-001\n",
      "models/gemini-1.0-pro-latest\n",
      "models/gemini-1.0-pro-vision-latest\n",
      "models/gemini-pro\n",
      "models/gemini-pro-vision\n"
     ]
    }
   ],
   "source": [
    "for m in genai.list_models():\n",
    "  if 'generateContent' in m.supported_generation_methods:\n",
    "    print(m.name)"
   ]
  },
  {
   "cell_type": "markdown",
   "id": "c87e2fe3",
   "metadata": {},
   "source": [
    "## Use this part to do your prompting\n",
    "\n",
    "use the `gemini-pro` model."
   ]
  },
  {
   "cell_type": "code",
   "execution_count": 10,
   "id": "573fc582",
   "metadata": {},
   "outputs": [
    {
     "data": {
      "text/markdown": [
       "> **HCI** stands for **Human-Computer Interaction**.\n",
       "> \n",
       "> It is the study of how people interact with computers and other related devices. It encompasses a wide range of topics, including:\n",
       "> \n",
       "> * **User experience (UX)**: The overall experience that users have when interacting with a computer system. This includes factors such as the system's ease of use, usability, and aesthetics.\n",
       "> * **User interface (UI)**: The part of a computer system that users interact with directly. This includes the graphical user interface (GUI), command line interface (CLI), and other forms of interaction.\n",
       "> * **Accessibility:** The ability of users with disabilities to interact with computer systems. This includes providing alternative forms of input and output, such as screen readers and closed captioning.\n",
       "> * **Ergonomics:** The study of how computer systems can be designed to minimize discomfort and injury for users. This includes factors such as the design of the keyboard and mouse, and the positioning of the computer screen.\n",
       "> \n",
       "> HCI is a multidisciplinary field that draws on knowledge from psychology, computer science, design, and other disciplines. It is an important field because it can help to make computer systems more usable, accessible, and enjoyable for users."
      ],
      "text/plain": [
       "<IPython.core.display.Markdown object>"
      ]
     },
     "execution_count": 10,
     "metadata": {},
     "output_type": "execute_result"
    }
   ],
   "source": [
    "model = genai.GenerativeModel('gemini-pro')\n",
    "response = model.generate_content(\"What is HCI?\")\n",
    "to_markdown(response.text)"
   ]
  },
  {
   "cell_type": "markdown",
   "id": "3e8e4ce5",
   "metadata": {},
   "source": [
    "# Writeup 0: Task and Strategy Description\n",
    "\n",
    "Here, you should describe what task you are working on, and what workflow/pipeline you intend to replicate (from which crowdsourcing paper). As a reminder, you should [pick a crowdsourcing paper here](https://docs.google.com/spreadsheets/d/1qM66oZ5YcSjqifegoyNgl3LFMaCfFHgoPe8isgckbXA/edit?usp=sharing). The spreadsheet also points to example tasks in the crowdsourcing papers; However, you DON'T have to stick to the paper-provided input/output. Please feel free to come up with your own tasks as long as they seem suitable for the paper/pipeline you are replicating.\n",
    "\n",
    "\n",
    "**EDIT THIS PART TO PROVIDE AN OVERVIEW OF YOUR ATTEMPTS**.\n",
    "\n",
    "- **Task Description**: Create three metaphors for a given concept, so that we can explain the different aspects of crowdsourcing in a poetic way. A metaphor may look like:\n",
    "\n",
    "    > In crowdsourcing, people are like bees; they work together to make honey.\n",
    "\n",
    "    With the concept being “crowdsourcing”, the simile being “bees”, and the similar aspect being “work together.”\n",
    "    \n",
    "    This task is from paper [AI Chains: Transparent and Controllable Human-AI Interaction by Chaining Large Language Model Prompts](https://arxiv.org/pdf/2110.01691.pdf), Case 0 in Appendix B.3.\n",
    "- **Example Input/output**: Write >=3 input-output pairs of your task. You should test your strategy on all the three examples.\n",
    "    ```\n",
    "    Input: Crowdsourcing\n",
    "    Output: \n",
    "    1. crowdsourcing is like a team sport in that it brings people to achieve one goal.\n",
    "    2. Crowdsourcing is like a vast, open-source library, with everyone contributing to the shelves of knowledge.\n",
    "    3. Crowdsourcing was like a quilt, with each individual contributing a patch of fabric to create a larger piece of art.\n",
    "\n",
    "    Input: Gratitude\n",
    "    Output:\n",
    "    1. gratitude is like a stream in that it’s a force that can carry you along.\n",
    "    2. Gratitude is like a generous river that overflows with blessings.\n",
    "    3. Gratitude is a feather in the cap of humility.\n",
    "\n",
    "    Input: loss\n",
    "    Output:\n",
    "    1. loss is like a wing in that it’s something you never wanted to lose, and it can take you away.\n",
    "    2. The loss was like a dark cloud of disappointment hovering over me.\n",
    "    3. Loss is a heavy burden, weighing down the heart like a funeral shroud.\n",
    "    ```\n",
    "- **Workflow prompting strategy**: The pipeline helps further specify an abstract query into more specific aspects. Given an input concept, we will\n",
    "    - First find three unique traits of the concept\n",
    "    - Ask the model to write a different metaphor for each trait.\n",
    "    \n",
    "    For example:\n",
    "    ```\n",
    "    INPUT: gratitude\n",
    "    Output: \n",
    "    TRAIT => OUTPUT: \n",
    "    Appreciation => Gratitude is a warm embrace, showing appreciation for all that is given.\n",
    "    Generosity => Gratitude is like a generous river that overflows with blessings.\n",
    "    ```\n",
    "- **Crowdsourcing paper**: [Towards Large-Scale Collaborative Planning: Answering High-Level Search Queries Using Human Computation](https://ojs.aaai.org/index.php/AAAI/article/view/8092) -- where the pipelining strategy comes from."
   ]
  },
  {
   "cell_type": "markdown",
   "id": "02bfacf4",
   "metadata": {},
   "source": [
    "## Baseline prompting\n",
    "\n",
    "Use this section to do a one-step prompting for your selected task."
   ]
  },
  {
   "cell_type": "code",
   "execution_count": 12,
   "id": "98d89a6c",
   "metadata": {},
   "outputs": [
    {
     "name": "stdout",
     "output_type": "stream",
     "text": [
      "INPUT: crowdsourcing\n",
      "OUTPUT: 1. A collective brain: Crowdsourcing is like tapping into the collective intelligence of a vast pool of individuals, harnessing their knowledge, skills, and perspectives to solve problems or create innovative solutions.\n",
      "2. A jigsaw puzzle: Crowdsourcing involves breaking down a complex task or problem into smaller pieces and assigning them to individuals or teams. Each piece represents a different perspective or expertise, and when assembled together, they form a complete solution.\n",
      "3. A global marketplace: Crowdsourcing opens up a marketplace where individuals and organizations can connect and collaborate, exchanging ideas, knowledge, and resources to achieve shared goals or address common challenges.\n",
      "\n",
      "INPUT: gratitude\n",
      "OUTPUT: It is not possible to generate metaphors without a context. Please provide a context or specific example so that I can provide an appropriate metaphor.\n",
      "\n",
      "INPUT: loss\n",
      "OUTPUT: 1. A gaping hole in the fabric of life\n",
      "2. A dark void that consumes all\n",
      "3. A broken heart that mends with time\n",
      "\n"
     ]
    }
   ],
   "source": [
    "# Write your code here.\n",
    "def baseline_prompt(concept, model='gemini-pro'):\n",
    "    prompt = f\"\"\"The following is a list of three metaphors on '{concept}'.\n",
    "Concept: {concept}\n",
    "Metaphors: 1.\"\"\"\n",
    "    \n",
    "    model = genai.GenerativeModel('gemini-pro')\n",
    "    response = model.generate_content(prompt)\n",
    "    print(f\"INPUT: {concept}\")\n",
    "    print(f\"OUTPUT: {response.text}\")\n",
    "    print()\n",
    "    \n",
    "baseline_prompt(\"crowdsourcing\")\n",
    "\n",
    "baseline_prompt(\"gratitude\")\n",
    "\n",
    "baseline_prompt(\"loss\")"
   ]
  },
  {
   "cell_type": "markdown",
   "id": "2130076f",
   "metadata": {},
   "source": [
    "## Crowdsourcing-Pipeline-inspired prompting\n",
    "\n",
    "Use this section to your selected pipeline prompting for your task."
   ]
  },
  {
   "cell_type": "code",
   "execution_count": 14,
   "id": "ea45bcbb",
   "metadata": {},
   "outputs": [
    {
     "name": "stdout",
     "output_type": "stream",
     "text": [
      "INPUT: crowdsourcing\n",
      "TRAITS: \n",
      "['Distributed problem-solving']\n",
      "OUTPUT: \n",
      "Crowdsourcing: A global assembly line where minds collaborate like cogs, powering solutions to complex puzzles.\n",
      "\n",
      "INPUT: gratitude\n",
      "TRAITS: \n",
      "[\"* **Appreciation of the present moment:** Gratitude is about acknowledging and appreciating the good things in our lives, no matter how small. It's about being present and taking the time to notice and savor the things that make us happy and grateful.\\n* **Acknowledgment of others:** Gratitude is about recognizing the role that others play in our lives. It's about being thankful for the people who support us, help us, and make our lives better. It's about expressing our appreciation for the things that others do for us, both big and small.\\n* **Awareness of the good in the world:** Gratitude is about recognizing the good that exists in the world, even when things are tough. It's about being aware of the beauty and the joy that surrounds us, even when it's easy to focus on the negative. It's about seeing the world through a lens of gratitude and appreciation.\"]\n",
      "OUTPUT: \n",
      "**Gratitude is a beacon that illuminates the present moment, illuminating the path to appreciate the blessings we often take for granted. It's a warm embrace that acknowledges the contributions of others, reminding us that we are not alone in our journey. Gratitude is a gentle breeze that whispers words of encouragement, reminding us to seek the good in even the most challenging times. It's a vibrant tapestry woven with threads of compassion and love, painting a world where beauty and joy dance amidst the shadows.**\n",
      "\n",
      "INPUT: loss\n",
      "TRAITS: \n",
      "['Enduring sadness', 'Absence of something once present', 'Emotional pain and grief']\n",
      "OUTPUT: \n",
      "A cavernous void, where sorrow's echoes linger,\n",
      "A wasteland's embrace, where hope forever withers.\n",
      "A vacant room, echoing with the silence of former voices\n",
      "Loss is a chasm's embrace,\n",
      "Where anguish echoes without a trace.\n",
      "\n"
     ]
    }
   ],
   "source": [
    "# Write your code here.\n",
    "from functools import partial\n",
    "import re\n",
    "\n",
    "def pipeline_prompt(concept, model='gemini-pro'):\n",
    "    prompt_concept_to_trait = f\"\"\"The following three phrases describes three different and unique traits of the given concept.\n",
    "Concept: {concept}\n",
    "Unique traits: 1.\"\"\"\n",
    "   \n",
    "    model = genai.GenerativeModel('gemini-pro')\n",
    "    response = model.generate_content(prompt_concept_to_trait)\n",
    "    traits = response.text\n",
    "    traits = [t.strip() for t in re.split(r'\\d+\\.', traits) if t.strip()]\n",
    "    \n",
    "    metaphors = []\n",
    "    for trait in traits:\n",
    "        prompt_trait_to_metaphor = f\"\"\"Given the concept and its unique trait, write a metaphor that conveys the corresponding trait.\n",
    "Concept: {concept}\n",
    "trait: {trait}\n",
    "metaphor:\"\"\"\n",
    "        response = model.generate_content(prompt_trait_to_metaphor)\n",
    "        metaphors.append(response.text.strip())\n",
    "    metaphor = '\\n'.join(metaphors)\n",
    "    print(f\"INPUT: {concept}\")\n",
    "    print(f\"TRAITS: \\n{traits}\")\n",
    "    print(f\"OUTPUT: \\n{metaphor}\")\n",
    "    print()\n",
    "\n",
    "pipeline_prompt(\"crowdsourcing\")\n",
    "\n",
    "pipeline_prompt(\"gratitude\")\n",
    "\n",
    "pipeline_prompt(\"loss\")"
   ]
  },
  {
   "cell_type": "markdown",
   "id": "02d167f8",
   "metadata": {},
   "source": [
    "# Writeup 1: Report & Reflection\n",
    "\n",
    "Fill in the following three sections by reflecting on your results."
   ]
  },
  {
   "cell_type": "markdown",
   "id": "984f801f",
   "metadata": {},
   "source": [
    "## Report the result\n",
    "\n",
    "For all the inputs you tried, summarized the input, baseline output, pipeline output, which output you like and why. To answer \"why\", you should first think of some criteria you want to use for evaluating the output:\n",
    "\n",
    "### Important criteria:\n",
    "1. Diversity: The output should be diverse.\n",
    "2. Clarity: The output should be descriptive and clearly explains why a metaphor is used.\n",
    "\n",
    "### Inputs and outputs:\n",
    "\n",
    "- **Input**: loss\n",
    "- **Baseline output**: (diversity: 5/5, clarity: 1/5)\n",
    "    - His heart was an empty void. \n",
    "    - The grief was a heavy weight on his shoulders. \n",
    "    - He felt like he was walking through a dark tunnel.\n",
    "\n",
    "- **Pipeline output**: (diversity: 5/5, clarity: 1/5)\n",
    "    - The world was a barren desert, devoid of hope and full of desolation.\n",
    "    - Disappointment settled over the room like a thick fog, obscuring the joy that had been there before.\n",
    "    - The grief of loss was like a balloon set free, slowly fading away in the distance.\n",
    "\n",
    "- **Which output you like and why**:\n",
    "    I like the pipeline output, because it's much more clear why a simile is picked.\n",
    "\n",
    "--- \n",
    "\n",
    "- **Input**:\n",
    "- **Baseline output**:\n",
    "- **Pipeline output**:\n",
    "- **Which output you like and why**:\n",
    "\n",
    "\n",
    "--- \n",
    "\n",
    "..."
   ]
  },
  {
   "cell_type": "markdown",
   "id": "5ae368dd",
   "metadata": {},
   "source": [
    "## Reflect on prompting effectiveness\n",
    "\n",
    "Write some paragraphs to describe: Did you find the pipeline prompting workflow effective? Why or Why not?"
   ]
  },
  {
   "cell_type": "markdown",
   "id": "52d7253b",
   "metadata": {},
   "source": [
    "## Envision possible improvements\n",
    "\n",
    "Write some paragraphs to describe: What are some possible ways to further improve the pipeline or prompt design?"
   ]
  },
  {
   "cell_type": "code",
   "execution_count": null,
   "id": "af851b47",
   "metadata": {},
   "outputs": [],
   "source": []
  }
 ],
 "metadata": {
  "kernelspec": {
   "display_name": "Python 3 (ipykernel)",
   "language": "python",
   "name": "python3"
  },
  "language_info": {
   "codemirror_mode": {
    "name": "ipython",
    "version": 3
   },
   "file_extension": ".py",
   "mimetype": "text/x-python",
   "name": "python",
   "nbconvert_exporter": "python",
   "pygments_lexer": "ipython3",
   "version": "3.11.5"
  }
 },
 "nbformat": 4,
 "nbformat_minor": 5
}

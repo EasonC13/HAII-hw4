{
 "cells": [
  {
   "cell_type": "markdown",
   "id": "deb265c3",
   "metadata": {},
   "source": [
    "# Preparation\n",
    "\n",
    "This part will help you get access to Gemini API and run your first prompting task.\n",
    "\n",
    "For a detailed API walkthrough, see [this documentation page](https://ai.google.dev/tutorials/python_quickstart).\n"
   ]
  },
  {
   "cell_type": "code",
   "execution_count": 1,
   "id": "baf0087e",
   "metadata": {},
   "outputs": [],
   "source": [
    "import sys\n",
    "import os\n",
    "import logging\n",
    "import pathlib\n",
    "import textwrap\n",
    "\n",
    "import google.generativeai as genai\n",
    "\n",
    "from IPython.display import display\n",
    "from IPython.display import Markdown\n",
    "\n",
    "\n",
    "def to_markdown(text):\n",
    "  text = text.replace('•', '  *')\n",
    "  return Markdown(textwrap.indent(text, '> ', predicate=lambda _: True))"
   ]
  },
  {
   "cell_type": "markdown",
   "id": "d8e372da",
   "metadata": {},
   "source": [
    "## Setup your API key\n",
    "Before you can use the Gemini API, you must first obtain an API key. If you don't already have one, create a key with one click in [Google AI Studio](https://makersuite.google.com/app/apikey). After obtaining the API key add it to your environment variables."
   ]
  },
  {
   "cell_type": "code",
   "execution_count": 16,
   "id": "0c48a3a2",
   "metadata": {},
   "outputs": [],
   "source": [
    "GOOGLE_API_KEY=os.getenv('GOOGLE_API_KEY')\n",
    "genai.configure(api_key=GOOGLE_API_KEY)"
   ]
  },
  {
   "cell_type": "markdown",
   "id": "ec1bfa6a",
   "metadata": {},
   "source": [
    "## List models\n",
    "\n",
    "Now you're ready to call the Gemini API. Use list_models to see the available Gemini models:\n"
   ]
  },
  {
   "cell_type": "code",
   "execution_count": 18,
   "id": "62ce6ba5",
   "metadata": {},
   "outputs": [
    {
     "name": "stdout",
     "output_type": "stream",
     "text": [
      "models/gemini-1.0-pro\n",
      "models/gemini-1.0-pro-001\n",
      "models/gemini-1.0-pro-latest\n",
      "models/gemini-1.0-pro-vision-latest\n",
      "models/gemini-pro\n",
      "models/gemini-pro-vision\n"
     ]
    }
   ],
   "source": [
    "for m in genai.list_models():\n",
    "  if 'generateContent' in m.supported_generation_methods:\n",
    "    print(m.name)"
   ]
  },
  {
   "cell_type": "markdown",
   "id": "c87e2fe3",
   "metadata": {},
   "source": [
    "## Use this part to do your prompting\n",
    "\n",
    "use the `gemini-pro` model."
   ]
  },
  {
   "cell_type": "code",
   "execution_count": 10,
   "id": "573fc582",
   "metadata": {},
   "outputs": [
    {
     "data": {
      "text/markdown": [
       "> **HCI** stands for **Human-Computer Interaction**.\n",
       "> \n",
       "> It is the study of how people interact with computers and other related devices. It encompasses a wide range of topics, including:\n",
       "> \n",
       "> * **User experience (UX)**: The overall experience that users have when interacting with a computer system. This includes factors such as the system's ease of use, usability, and aesthetics.\n",
       "> * **User interface (UI)**: The part of a computer system that users interact with directly. This includes the graphical user interface (GUI), command line interface (CLI), and other forms of interaction.\n",
       "> * **Accessibility:** The ability of users with disabilities to interact with computer systems. This includes providing alternative forms of input and output, such as screen readers and closed captioning.\n",
       "> * **Ergonomics:** The study of how computer systems can be designed to minimize discomfort and injury for users. This includes factors such as the design of the keyboard and mouse, and the positioning of the computer screen.\n",
       "> \n",
       "> HCI is a multidisciplinary field that draws on knowledge from psychology, computer science, design, and other disciplines. It is an important field because it can help to make computer systems more usable, accessible, and enjoyable for users."
      ],
      "text/plain": [
       "<IPython.core.display.Markdown object>"
      ]
     },
     "execution_count": 10,
     "metadata": {},
     "output_type": "execute_result"
    }
   ],
   "source": [
    "model = genai.GenerativeModel('gemini-pro')\n",
    "response = model.generate_content(\"What is HCI?\")\n",
    "to_markdown(response.text)"
   ]
  },
  {
   "cell_type": "markdown",
   "id": "3e8e4ce5",
   "metadata": {},
   "source": [
    "# Writeup 0: Task and Strategy Description\n",
    "\n",
    "Here, you should describe what task you are working on, and what workflow/pipeline you intend to replicate (from which crowdsourcing paper). As a reminder, you should [pick a crowdsourcing paper here](https://docs.google.com/spreadsheets/d/1qM66oZ5YcSjqifegoyNgl3LFMaCfFHgoPe8isgckbXA/edit?usp=sharing). The spreadsheet also points to example tasks in the crowdsourcing papers; However, you DON'T have to stick to the paper-provided input/output. Please feel free to come up with your own tasks as long as they seem suitable for the paper/pipeline you are replicating.\n",
    " \n",
    "\n",
    "**EDIT THIS PART TO PROVIDE AN OVERVIEW OF YOUR ATTEMPTS**\n",
    "\n",
    "- **Task Description**: (description of your testing task.)\n",
    "- **Example Input/output**: Write >=3 input-output pairs of your task. You should test your strategy on all the three examples.\n",
    "    ```\n",
    "    Input: [INPUT EXAMPLE]\n",
    "    Output: [OUTPUT EXAMPLE]\n",
    "    \n",
    "    Input: [INPUT EXAMPLE]\n",
    "    Output: [OUTPUT EXAMPLE]\n",
    "    \n",
    "    Input: [INPUT EXAMPLE]\n",
    "    Output: [OUTPUT EXAMPLE]\n",
    "    ```\n",
    "- **Workflow prompting strategy**: Describe your designed pipeline.\n",
    "- **Crowdsourcing paper**: [PAPER TITLE & URL](paper_url) -- where the pipelining strategy comes from."
   ]
  },
  {
   "cell_type": "markdown",
   "id": "02bfacf4",
   "metadata": {},
   "source": [
    "## Baseline prompting\n",
    "\n",
    "Use this section to do a one-step prompting for your selected task."
   ]
  },
  {
   "cell_type": "code",
   "execution_count": 1,
   "id": "98d89a6c",
   "metadata": {},
   "outputs": [],
   "source": [
    "# Write your code here."
   ]
  },
  {
   "cell_type": "markdown",
   "id": "2130076f",
   "metadata": {},
   "source": [
    "## Crowdsourcing-Pipeline-inspired prompting\n",
    "\n",
    "Use this section to your selected pipeline prompting for your task."
   ]
  },
  {
   "cell_type": "code",
   "execution_count": 2,
   "id": "ea45bcbb",
   "metadata": {},
   "outputs": [],
   "source": [
    "# Write your code here."
   ]
  },
  {
   "cell_type": "markdown",
   "id": "02d167f8",
   "metadata": {},
   "source": [
    "# Writeup 1: Report & Reflection\n",
    "\n",
    "Fill in the following three sections by reflecting on your results."
   ]
  },
  {
   "cell_type": "markdown",
   "id": "984f801f",
   "metadata": {},
   "source": [
    "## Report the result\n",
    "\n",
    "For all the inputs you tried, summarized the input, baseline output, pipeline output, which output you like and why. To answer \"why\", you should first think of some criteria you want to use for evaluating the output:\n",
    "\n",
    "### Important criteria:\n",
    "1. Diversity: The output should be diverse.\n",
    "2. Clarity: The output should be descriptive and clearly explains why a metaphor is used.\n",
    "\n",
    "### Inputs and outputs:\n",
    "\n",
    "- **Input**: loss\n",
    "- **Baseline output**: (diversity: 5/5, clarity: 1/5)\n",
    "    - His heart was an empty void. \n",
    "    - The grief was a heavy weight on his shoulders. \n",
    "    - He felt like he was walking through a dark tunnel.\n",
    "\n",
    "- **Pipeline output**: (diversity: 5/5, clarity: 1/5)\n",
    "    - The world was a barren desert, devoid of hope and full of desolation.\n",
    "    - Disappointment settled over the room like a thick fog, obscuring the joy that had been there before.\n",
    "    - The grief of loss was like a balloon set free, slowly fading away in the distance.\n",
    "\n",
    "- **Which output you like and why**:\n",
    "    I like the pipeline output, because it's much more clear why a simile is picked.\n",
    "\n",
    "--- \n",
    "\n",
    "- **Input**:\n",
    "- **Baseline output**:\n",
    "- **Pipeline output**:\n",
    "- **Which output you like and why**:\n",
    "\n",
    "\n",
    "--- \n",
    "\n",
    "..."
   ]
  },
  {
   "cell_type": "markdown",
   "id": "5ae368dd",
   "metadata": {},
   "source": [
    "## Reflect on prompting effectiveness\n",
    "\n",
    "Write some paragraphs to describe: Did you find the pipeline prompting workflow effective? Why or Why not?"
   ]
  },
  {
   "cell_type": "markdown",
   "id": "52d7253b",
   "metadata": {},
   "source": [
    "## Envision possible improvements\n",
    "\n",
    "Write some paragraphs to describe: What are some possible ways to further improve the pipeline or prompt design?"
   ]
  },
  {
   "cell_type": "code",
   "execution_count": null,
   "id": "af851b47",
   "metadata": {},
   "outputs": [],
   "source": []
  }
 ],
 "metadata": {
  "kernelspec": {
   "display_name": "Python 3 (ipykernel)",
   "language": "python",
   "name": "python3"
  },
  "language_info": {
   "codemirror_mode": {
    "name": "ipython",
    "version": 3
   },
   "file_extension": ".py",
   "mimetype": "text/x-python",
   "name": "python",
   "nbconvert_exporter": "python",
   "pygments_lexer": "ipython3",
   "version": "3.11.5"
  }
 },
 "nbformat": 4,
 "nbformat_minor": 5
}

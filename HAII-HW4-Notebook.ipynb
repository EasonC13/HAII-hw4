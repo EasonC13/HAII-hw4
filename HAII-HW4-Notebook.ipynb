{
 "cells": [
  {
   "cell_type": "markdown",
   "id": "deb265c3",
   "metadata": {},
   "source": [
    "# Preparation\n",
    "\n",
    "This part will help you get access to Gemini API and run your first prompting task.\n",
    "\n",
    "For a detailed API walkthrough, see [this documentation page](https://ai.google.dev/tutorials/python_quickstart).\n"
   ]
  },
  {
   "cell_type": "code",
   "execution_count": 2,
   "id": "baf0087e",
   "metadata": {},
   "outputs": [
    {
     "name": "stderr",
     "output_type": "stream",
     "text": [
      "/Users/eason/anaconda3/envs/py311/lib/python3.11/site-packages/tqdm/auto.py:21: TqdmWarning: IProgress not found. Please update jupyter and ipywidgets. See https://ipywidgets.readthedocs.io/en/stable/user_install.html\n",
      "  from .autonotebook import tqdm as notebook_tqdm\n"
     ]
    }
   ],
   "source": [
    "import sys\n",
    "import os\n",
    "import logging\n",
    "import pathlib\n",
    "import textwrap\n",
    "\n",
    "import google.generativeai as genai\n",
    "\n",
    "from IPython.display import display\n",
    "from IPython.display import Markdown\n",
    "\n",
    "\n",
    "def to_markdown(text):\n",
    "  text = text.replace('•', '  *')\n",
    "  return Markdown(textwrap.indent(text, '> ', predicate=lambda _: True))"
   ]
  },
  {
   "cell_type": "markdown",
   "id": "d8e372da",
   "metadata": {},
   "source": [
    "## Setup your API key\n",
    "Before you can use the Gemini API, you must first obtain an API key. If you don't already have one, create a key with one click in [Google AI Studio](https://makersuite.google.com/app/apikey). After obtaining the API key add it to your environment variables."
   ]
  },
  {
   "cell_type": "code",
   "execution_count": 3,
   "id": "0c48a3a2",
   "metadata": {},
   "outputs": [],
   "source": [
    "import dotenv\n",
    "dotenv.load_dotenv()\n",
    "GOOGLE_API_KEY=os.getenv('GOOGLE_API_KEY')\n",
    "genai.configure(api_key=GOOGLE_API_KEY)"
   ]
  },
  {
   "cell_type": "markdown",
   "id": "ec1bfa6a",
   "metadata": {},
   "source": [
    "## List models\n",
    "\n",
    "Now you're ready to call the Gemini API. Use list_models to see the available Gemini models:\n"
   ]
  },
  {
   "cell_type": "code",
   "execution_count": 4,
   "id": "62ce6ba5",
   "metadata": {},
   "outputs": [
    {
     "name": "stdout",
     "output_type": "stream",
     "text": [
      "models/gemini-1.0-pro\n",
      "models/gemini-1.0-pro-001\n",
      "models/gemini-1.0-pro-latest\n",
      "models/gemini-1.0-pro-vision-latest\n",
      "models/gemini-1.5-pro-latest\n",
      "models/gemini-pro\n",
      "models/gemini-pro-vision\n"
     ]
    }
   ],
   "source": [
    "for m in genai.list_models():\n",
    "  if 'generateContent' in m.supported_generation_methods:\n",
    "    print(m.name)"
   ]
  },
  {
   "cell_type": "markdown",
   "id": "c87e2fe3",
   "metadata": {},
   "source": [
    "## Use this part to do your prompting\n",
    "\n",
    "use the `gemini-pro` model."
   ]
  },
  {
   "cell_type": "code",
   "execution_count": 5,
   "id": "573fc582",
   "metadata": {},
   "outputs": [
    {
     "data": {
      "text/markdown": [
       "> Human-Computer Interaction (HCI)"
      ],
      "text/plain": [
       "<IPython.core.display.Markdown object>"
      ]
     },
     "execution_count": 5,
     "metadata": {},
     "output_type": "execute_result"
    }
   ],
   "source": [
    "model = genai.GenerativeModel('gemini-pro')\n",
    "response = model.generate_content(\"What is HCI?\")\n",
    "to_markdown(response.text)"
   ]
  },
  {
   "cell_type": "markdown",
   "id": "3e8e4ce5",
   "metadata": {},
   "source": [
    "# Writeup 0: Task and Strategy Description\n",
    "\n",
    "Here, you should describe what task you are working on, and what workflow/pipeline you intend to replicate (from which crowdsourcing paper). As a reminder, you should [pick a crowdsourcing paper here](https://docs.google.com/spreadsheets/d/1qM66oZ5YcSjqifegoyNgl3LFMaCfFHgoPe8isgckbXA/edit?usp=sharing). The spreadsheet also points to example tasks in the crowdsourcing papers; However, you DON'T have to stick to the paper-provided input/output. Please feel free to come up with your own tasks as long as they seem suitable for the paper/pipeline you are replicating.\n",
    " \n",
    "\n",
    "**EDIT THIS PART TO PROVIDE AN OVERVIEW OF YOUR ATTEMPTS**\n",
    "\n",
    "- **Task Description**: Sort a list of array by the number of odd number in the array element\n",
    "- **Example Input/output**: Write >=3 input-output pairs of your task. You should test your strategy on all the three examples.\n",
    "    ```\n",
    "    Input: [[1,3,5,7,9], [2,4,6,8,10], [1,2,3,4,5], [1,1,5,7,9], [1,5,5,7,9]]\n",
    "    Output: [[2, 4, 6, 8, 10], [1, 2, 3, 4, 5], [1, 3, 5, 7, 9], [1, 1, 5, 7, 9], [1, 5, 5, 7, 9]]\n",
    "    \n",
    "    Input: [[58, 37, 46, 77, 47], [47, 79, 44, 9, 30], [54, 26, 88, 74, 10], [9, 20, 80, 63, 41], [41, 35, 80, 94, 15]]\n",
    "    Output: [[54, 26, 88, 74, 10], [41, 35, 80, 94, 15], [9, 20, 80, 63, 41], [47, 79, 44, 9, 30], [58, 37, 46, 77, 47]]\n",
    "    \n",
    "    Input: [[90, 54, 48, 36, 89], [95, 59, 64, 20, 87], [40, 28, 52, 48, 94], [73, 72, 38, 70, 47], [19, 76, 61, 68, 9]]\n",
    "    Output: [[40, 28, 52, 48, 94], [90, 54, 48, 36, 89], [73, 72, 38, 70, 47], [95, 59, 64, 20, 87], [19, 76, 61, 68, 9]]\n",
    "    ```\n",
    "- **Workflow prompting strategy**: \n",
    "    1. Assign an index to each list in JSON format, key is index, value is the list.\n",
    "     2. Identify each number in the list is odd or even in a JSON format, for example, if the input lists is [[1, 2, 3, 4, 5], [6, 7, 8, 9, 10]], the output should be {{ \"0\": {{\"1\": \"odd\", \"2\": \"even\", \"3\": \"odd\", \"4\": \"even\", \"5\": \"odd\"}}, \"1\": {{\"6\": \"even\", \"7\": \"odd\", \"8\": \"even\", \"9\": \"odd\", \"10\": \"even\"}} }}.\n",
    "     3. grab all odd numbers are in each list in the json format, key is index, value is all odd numbers. Remember, odd numbers ends with 1, 3, 5, 7, 9. You should not include any even numbers that ends with 2, 4, 6, 8, 0. For example, 81, 73, 55, 37, 19 are odd number, while 82, 74, 56, 38, 20 are even numbers.\n",
    "     4. Indicated how many odd numbers are in each list in the json format, key is index, value is how many odd numbers it includes.\n",
    "     5. Sort the lists in order of how many odd numbers they contain. Output a json list, each element is the index of the list, sorted in order of how many odd numbers they contain.\n",
    "     6. Sort the lists in order of how many odd numbers they contain. Output a json list, each element is the list input, sorted in order of how many odd numbers they contain.\"\"\"\n",
    "    \n",
    "- **Crowdsourcing paper**: [Cheng, Justin, et al. \"Break it down: A comparison of macro-and microtasks.\" CHI 2015.](https://hci.stanford.edu/publications/2015/micromacro/micromacro.pdf) -- where the pipelining strategy comes from."
   ]
  },
  {
   "cell_type": "markdown",
   "id": "85226e52",
   "metadata": {},
   "source": [
    "# Baseline Prompting for Sorting"
   ]
  },
  {
   "cell_type": "code",
   "execution_count": 72,
   "id": "c02a6d47",
   "metadata": {},
   "outputs": [
    {
     "name": "stdout",
     "output_type": "stream",
     "text": [
      "INPUT: [[90, 54, 48, 36, 89], [95, 59, 64, 20, 87], [40, 28, 52, 48, 94], [73, 72, 38, 70, 47], [19, 76, 61, 68, 9]]\n",
      "OUTPUT: 1. [19, 76, 61, 68, 9] (2 odd numbers)\n",
      "2. [40, 28, 52, 48, 94] (2 odd numbers)\n",
      "3. [90, 54, 48, 36, 89] (2 odd numbers)\n",
      "4. [95, 59, 64, 20, 87] (1 odd number)\n",
      "5. [73, 72, 38, 70, 47] (1 odd number)\n",
      "\n",
      "We can see the result is not very good... It is not accurate and not useful. Let's try to improve it by chain of thought.\n"
     ]
    }
   ],
   "source": [
    "# Write your code here.\n",
    "# Write your code here.\n",
    "def baseline_prompt(random_lists, model='gemini-pro'):\n",
    "    prompt = f\"\"\"I have some random lists of numbers: {random_lists}. Please sort it in order of how many odd numbers they contain.\"\"\"\n",
    "    \n",
    "    model = genai.GenerativeModel('gemini-pro')\n",
    "    response = model.generate_content(prompt)\n",
    "    print(f\"INPUT: {random_lists}\")\n",
    "    print(f\"OUTPUT: {response.text}\")\n",
    "    print()\n",
    "\n",
    "\n",
    "# Prepare the list useing random\n",
    "import random\n",
    "random_lists = [random.sample(range(1, 100), 5) for _ in range(5)]\n",
    "baseline_prompt(random_lists)\n",
    "print(\"We can see the result is not very good... It is not accurate and not useful. Let's try to improve it by chain of thought.\")"
   ]
  },
  {
   "cell_type": "markdown",
   "id": "b4213727",
   "metadata": {},
   "source": [
    "# Advanced Prompting for sorting with chain of thought\n",
    "We can see the result is nearly perfect.\n",
    "\n",
    "I make several modification of this prompt, at first I just ask gemini to sort it and output. Then I found that it need to use index as an indicator at (1) to lower the length and prevent hallucination. Then, I found it still can't catch all odd numbers, so I ask gemini to double check at (3). Then, the result is perfect! Oh Yes!"
   ]
  },
  {
   "cell_type": "code",
   "execution_count": 39,
   "id": "b803e8be",
   "metadata": {},
   "outputs": [
    {
     "name": "stdout",
     "output_type": "stream",
     "text": [
      "INPUT: [[73, 19, 40, 86, 90], [91, 23, 25, 54, 26], [67, 5, 40, 24, 44], [82, 58, 31, 42, 73], [31, 55, 5, 91, 63]]\n",
      "OUTPUT: **1. Assign an index to each list in JSON format:**\n",
      "```\n",
      "{\n",
      "  \"0\": [73, 19, 40, 86, 90],\n",
      "  \"1\": [91, 23, 25, 54, 26],\n",
      "  \"2\": [67, 5, 40, 24, 44],\n",
      "  \"3\": [82, 58, 31, 42, 73],\n",
      "  \"4\": [31, 55, 5, 91, 63]\n",
      "}\n",
      "```\n",
      "\n",
      "**2. Grab all odd numbers in each list in JSON format:**\n",
      "```\n",
      "{\n",
      "  \"0\": [19, 90],\n",
      "  \"1\": [23, 25, 55],\n",
      "  \"2\": [],\n",
      "  \"3\": [31, 73],\n",
      "  \"4\": [31, 55, 91, 63]\n",
      "}\n",
      "```\n",
      "\n",
      "**3. Double check and output all odd numbers in each list in JSON format again:**\n",
      "```\n",
      "{\n",
      "  \"0\": [19, 90],\n",
      "  \"1\": [23, 25, 55],\n",
      "  \"2\": [],\n",
      "  \"3\": [31, 73],\n",
      "  \"4\": [31, 55, 91, 63]\n",
      "}\n",
      "```\n",
      "\n",
      "**4. Indicate how many odd numbers are in each list in JSON format:**\n",
      "```\n",
      "{\n",
      "  \"0\": 2,\n",
      "  \"1\": 3,\n",
      "  \"2\": 0,\n",
      "  \"3\": 2,\n",
      "  \"4\": 4\n",
      "}\n",
      "```\n",
      "\n",
      "**5. Sort the lists in order of how many odd numbers they contain. Output a JSON list, each element is the index of the list, sorted in order of how many odd numbers they contain.**\n",
      "```\n",
      "[2, 0, 3, 1, 4]\n",
      "```\n",
      "\n",
      "**6. Sort the lists in order of how many odd numbers they contain. Output a JSON list, each element is the list input, sorted in order of how many odd numbers they contain.**\n",
      "```\n",
      "[[67, 5, 40, 24, 44], [73, 19, 40, 86, 90], [82, 58, 31, 42, 73], [91, 23, 25, 54, 26], [31, 55, 5, 91, 63]]\n",
      "```\n",
      "\n"
     ]
    }
   ],
   "source": [
    "# Write your code here.\n",
    "# Write your code here.\n",
    "def advanced_prompt(random_lists, model='gemini-pro'):\n",
    "    prompt = f\"\"\"I have some random lists of numbers: {random_lists}. \n",
    "    Please do the following using text only, don't output any code:\n",
    "     1. Assign an index to each list in JSON format, key is index, value is the list.\n",
    "     2. grab all odd numbers are in each list in the json format, key is index, value is all odd numbers. Remember, odd numbers ends with 1, 3, 5, 7, 9. You should not include any even numbers that ends with 2, 4, 6, 8, 0. For example, 81, 73, 55, 37, 19 are odd number, while 82, 74, 56, 38, 20 are even numbers.\n",
    "     3. double check and output all odd numbers are in each list in the json format again, if you miss any odd numbers in the list, please add it. \n",
    "     3. Indicated how many odd numbers are in each list in the json format, key is index, value is how many odd numbers it includes.\n",
    "     4. Sort the lists in order of how many odd numbers they contain. Output a json list, each element is the index of the list, sorted in order of how many odd numbers they contain.\n",
    "     5. Sort the lists in order of how many odd numbers they contain. Output a json list, each element is the list input, sorted in order of how many odd numbers they contain.\"\"\"\n",
    "    \n",
    "    model = genai.GenerativeModel('gemini-pro')\n",
    "    response = model.generate_content(prompt)\n",
    "    print(f\"INPUT: {random_lists}\")\n",
    "    print(f\"OUTPUT: {response.text}\")\n",
    "    print()\n",
    "\n",
    "\n",
    "# Prepare the list useing random\n",
    "import random\n",
    "random_lists = [random.sample(range(1, 100), 5) for _ in range(5)]\n",
    "advanced_prompt(random_lists)"
   ]
  },
  {
   "cell_type": "markdown",
   "id": "b5c5e387",
   "metadata": {},
   "source": [
    "# More Advanced Prompting for sorting with more chain of thought\n",
    "We can see the result is nearly perfect.But not yet perfect, so I add more instruction to make it better. The result, I can said it is perfect."
   ]
  },
  {
   "cell_type": "code",
   "execution_count": 59,
   "id": "508298df",
   "metadata": {},
   "outputs": [
    {
     "name": "stdout",
     "output_type": "stream",
     "text": [
      "INPUT: [[54, 68, 51, 24, 12], [63, 52, 87, 93, 33], [85, 30, 34, 21, 83], [84, 4, 46, 39, 33], [70, 61, 92, 10, 83]]\n",
      "OUTPUT: 1. **Assigning an index to each list in JSON format:**\n",
      "```json\n",
      "{\n",
      "  \"0\": [54, 68, 51, 24, 12],\n",
      "  \"1\": [63, 52, 87, 93, 33],\n",
      "  \"2\": [85, 30, 34, 21, 83],\n",
      "  \"3\": [84, 4, 46, 39, 33],\n",
      "  \"4\": [70, 61, 92, 10, 83]\n",
      "}\n",
      "```\n",
      "\n",
      "2. **Identifying each number in the list as odd or even in JSON format:**\n",
      "```json\n",
      "{\n",
      "  \"0\": {\"54\": \"even\", \"68\": \"even\", \"51\": \"odd\", \"24\": \"even\", \"12\": \"even\"},\n",
      "  \"1\": {\"63\": \"odd\", \"52\": \"even\", \"87\": \"odd\", \"93\": \"odd\", \"33\": \"odd\"},\n",
      "  \"2\": {\"85\": \"odd\", \"30\": \"even\", \"34\": \"even\", \"21\": \"odd\", \"83\": \"odd\"},\n",
      "  \"3\": {\"84\": \"even\", \"4\": \"even\", \"46\": \"even\", \"39\": \"odd\", \"33\": \"odd\"},\n",
      "  \"4\": {\"70\": \"even\", \"61\": \"odd\", \"92\": \"even\", \"10\": \"even\", \"83\": \"odd\"}\n",
      "}\n",
      "```\n",
      "\n",
      "3. **Grabbing all odd numbers in each list in JSON format:**\n",
      "```json\n",
      "{\n",
      "  \"0\": [51],\n",
      "  \"1\": [63, 87, 93, 33],\n",
      "  \"2\": [85, 21, 83, 39],\n",
      "  \"3\": [33],\n",
      "  \"4\": [61, 83]\n",
      "}\n",
      "```\n",
      "\n",
      "4. **Indicating how many odd numbers are in each list in JSON format:**\n",
      "```json\n",
      "{\n",
      "  \"0\": 1,\n",
      "  \"1\": 4,\n",
      "  \"2\": 4,\n",
      "  \"3\": 1,\n",
      "  \"4\": 2\n",
      "}\n",
      "```\n",
      "\n",
      "5. **Sorting the lists in order of how many odd numbers they contain:**\n",
      "```json\n",
      "[3, 0, 4, 2, 1]\n",
      "```\n",
      "\n",
      "6. **Sorting the lists in order of how many odd numbers they contain:**\n",
      "```json\n",
      "[[84, 4, 46, 39, 33], [54, 68, 51, 24, 12], [85, 30, 34, 21, 83], [63, 52, 87, 93, 33], [70, 61, 92, 10, 83]]\n",
      "```\n",
      "\n"
     ]
    }
   ],
   "source": [
    "import json\n",
    "# Write your code here.\n",
    "def advanced_prompt(random_lists, model='gemini-pro', verbose=True):\n",
    "    prompt = f\"\"\"I have some random lists of numbers: {random_lists}. \n",
    "    Please do the following using text only, don't output any code:\n",
    "     1. Assign an index to each list in JSON format, key is index, value is the list.\n",
    "     2. Identify each number in the list is odd or even in a JSON format, for example, if the input lists is [[1, 2, 3, 4, 5], [6, 7, 8, 9, 10]], the output should be {{ \"0\": {{\"1\": \"odd\", \"2\": \"even\", \"3\": \"odd\", \"4\": \"even\", \"5\": \"odd\"}}, \"1\": {{\"6\": \"even\", \"7\": \"odd\", \"8\": \"even\", \"9\": \"odd\", \"10\": \"even\"}} }}.\n",
    "     3. grab all odd numbers are in each list in the json format, key is index, value is all odd numbers. Remember, odd numbers ends with 1, 3, 5, 7, 9. You should not include any even numbers that ends with 2, 4, 6, 8, 0. For example, 81, 73, 55, 37, 19 are odd number, while 82, 74, 56, 38, 20 are even numbers.\n",
    "     4. Indicated how many odd numbers are in each list in the json format, key is index, value is how many odd numbers it includes.\n",
    "     5. Sort the lists in order of how many odd numbers they contain. Output a json list, each element is the index of the list, sorted in order of how many odd numbers they contain.\n",
    "     6. Sort the lists in order of how many odd numbers they contain. Output a json list, each element is the list input, sorted in order of how many odd numbers they contain.\"\"\"\n",
    "    \n",
    "    model = genai.GenerativeModel('gemini-pro')\n",
    "    response = model.generate_content(prompt)\n",
    "    if verbose:\n",
    "        print(f\"INPUT: {random_lists}\")\n",
    "        print(f\"OUTPUT: {response.text}\")\n",
    "        print()\n",
    "    try:\n",
    "        return json.loads(response.text.split(\"```\")[-2].replace(\"json\", \"\"))\n",
    "    except:\n",
    "        #print(response.text)\n",
    "        return None\n",
    "    \n",
    "\n",
    "\n",
    "# Prepare the list useing random\n",
    "import random\n",
    "random_lists = [random.sample(range(1, 100), 5) for _ in range(5)]\n",
    "result = advanced_prompt(random_lists)"
   ]
  },
  {
   "cell_type": "markdown",
   "id": "61eacd15",
   "metadata": {},
   "source": [
    "## Evaluate it "
   ]
  },
  {
   "cell_type": "code",
   "execution_count": 60,
   "id": "536833e3",
   "metadata": {},
   "outputs": [],
   "source": [
    "import json\n",
    "import itertools\n",
    "\n",
    "def process_lists(random_lists):\n",
    "    indexed_lists = {str(i): lst for i, lst in enumerate(random_lists)}\n",
    "    odd_even_map = {}\n",
    "    odd_numbers = {}\n",
    "    odd_counts = {}\n",
    "\n",
    "    # Process each list\n",
    "    for index, lst in indexed_lists.items():\n",
    "        odd_even_map[index] = {num: 'odd' if num % 2 != 0 else 'even' for num in lst}\n",
    "        odd_numbers[index] = [num for num in lst if num % 2 != 0]\n",
    "        odd_counts[index] = len(odd_numbers[index])\n",
    "\n",
    "    # Sorting by number of odd numbers and grouping lists with equal counts\n",
    "    sorted_by_odd_count_indices = sorted(odd_counts, key=odd_counts.get)\n",
    "    grouped_indices = {}\n",
    "    for index in sorted_by_odd_count_indices:\n",
    "        count = odd_counts[index]\n",
    "        if count not in grouped_indices:\n",
    "            grouped_indices[count] = []\n",
    "        grouped_indices[count].append(index)\n",
    "\n",
    "    # Generating permutations for groups with the same odd counts\n",
    "    all_permutations = []\n",
    "    for group in grouped_indices.values():\n",
    "        if len(group) > 1:\n",
    "            for permutation in itertools.permutations(group):\n",
    "                permuted_list = []\n",
    "                for idx in sorted_by_odd_count_indices:\n",
    "                    if idx in group:\n",
    "                        permuted_list.append(indexed_lists[permutation[group.index(idx)]])\n",
    "                    else:\n",
    "                        permuted_list.append(indexed_lists[idx])\n",
    "                all_permutations.append(permuted_list)\n",
    "        else:\n",
    "            all_permutations.append([indexed_lists[idx] for idx in sorted_by_odd_count_indices])\n",
    "\n",
    "    result = {\n",
    "        \"indexed_lists\": indexed_lists,\n",
    "        \"odd_even_map\": odd_even_map,\n",
    "        \"odd_numbers\": odd_numbers,\n",
    "        \"odd_counts\": odd_counts,\n",
    "        \"sorted_indices_by_odd_counts\": sorted_by_odd_count_indices,\n",
    "        \"sorted_lists_by_odd_counts\": all_permutations\n",
    "    }\n",
    "\n",
    "    # Optionally, convert result to JSON string with indentation\n",
    "    # return json.dumps(result, indent=4)\n",
    "    return all_permutations\n"
   ]
  },
  {
   "cell_type": "code",
   "execution_count": 69,
   "id": "ba9ab59c",
   "metadata": {},
   "outputs": [
    {
     "data": {
      "text/plain": [
       "[[[2, 4, 6, 8, 10],\n",
       "  [1, 2, 3, 4, 5],\n",
       "  [1, 3, 5, 7, 9],\n",
       "  [1, 1, 5, 7, 9],\n",
       "  [1, 5, 5, 7, 9]],\n",
       " [[2, 4, 6, 8, 10],\n",
       "  [1, 2, 3, 4, 5],\n",
       "  [1, 3, 5, 7, 9],\n",
       "  [1, 1, 5, 7, 9],\n",
       "  [1, 5, 5, 7, 9]],\n",
       " [[2, 4, 6, 8, 10],\n",
       "  [1, 2, 3, 4, 5],\n",
       "  [1, 3, 5, 7, 9],\n",
       "  [1, 1, 5, 7, 9],\n",
       "  [1, 5, 5, 7, 9]],\n",
       " [[2, 4, 6, 8, 10],\n",
       "  [1, 2, 3, 4, 5],\n",
       "  [1, 3, 5, 7, 9],\n",
       "  [1, 5, 5, 7, 9],\n",
       "  [1, 1, 5, 7, 9]],\n",
       " [[2, 4, 6, 8, 10],\n",
       "  [1, 2, 3, 4, 5],\n",
       "  [1, 1, 5, 7, 9],\n",
       "  [1, 3, 5, 7, 9],\n",
       "  [1, 5, 5, 7, 9]],\n",
       " [[2, 4, 6, 8, 10],\n",
       "  [1, 2, 3, 4, 5],\n",
       "  [1, 1, 5, 7, 9],\n",
       "  [1, 5, 5, 7, 9],\n",
       "  [1, 3, 5, 7, 9]],\n",
       " [[2, 4, 6, 8, 10],\n",
       "  [1, 2, 3, 4, 5],\n",
       "  [1, 5, 5, 7, 9],\n",
       "  [1, 3, 5, 7, 9],\n",
       "  [1, 1, 5, 7, 9]],\n",
       " [[2, 4, 6, 8, 10],\n",
       "  [1, 2, 3, 4, 5],\n",
       "  [1, 5, 5, 7, 9],\n",
       "  [1, 1, 5, 7, 9],\n",
       "  [1, 3, 5, 7, 9]]]"
      ]
     },
     "execution_count": 69,
     "metadata": {},
     "output_type": "execute_result"
    }
   ],
   "source": [
    "# random_lists = [random.sample(range(1, 100), 5) for _ in range(5)]\n",
    "# To make sure the order of the same odd number count didn't influcene the result, we enumerate all possible permutations of the same odd number count.\n",
    "random_lists = [[1,3,5,7,9], [2,4,6,8,10], [1,2,3,4,5], [1,1,5,7,9], [1,5,5,7,9]]\n",
    "process_lists(random_lists)"
   ]
  },
  {
   "cell_type": "code",
   "execution_count": 70,
   "id": "2580bd76",
   "metadata": {},
   "outputs": [
    {
     "name": "stderr",
     "output_type": "stream",
     "text": [
      "100%|██████████| 100/100 [18:26<00:00, 11.06s/it]\n"
     ]
    }
   ],
   "source": [
    "import random\n",
    "import tqdm\n",
    "trial = 0\n",
    "correct = 0\n",
    "\n",
    "for i in tqdm.tqdm(range(100)):\n",
    "    random_lists = [random.sample(range(1, 100), 5) for _ in range(5)]\n",
    "    result = advanced_prompt(random_lists, verbose=False)\n",
    "    isCorrect = 0\n",
    "    for permuted_list in process_lists(random_lists):\n",
    "        isCorrect = int(json.dumps(result) == json.dumps(permuted_list))\n",
    "        if isCorrect:\n",
    "            correct += isCorrect\n",
    "            break\n",
    "    trial += 1"
   ]
  },
  {
   "cell_type": "code",
   "execution_count": 71,
   "id": "d772c01a",
   "metadata": {},
   "outputs": [
    {
     "name": "stdout",
     "output_type": "stream",
     "text": [
      "Correct: 33/100 (33.00%)\n"
     ]
    }
   ],
   "source": [
    "print(f\"Correct: {correct}/{trial} ({correct/trial:.2%})\")"
   ]
  },
  {
   "cell_type": "markdown",
   "id": "39cc595d",
   "metadata": {},
   "source": [
    "# Yet after evaluation, it is still 29% accuracy, not good enough."
   ]
  },
  {
   "cell_type": "markdown",
   "id": "2307e8fe",
   "metadata": {},
   "source": [
    "# Generazlize to make it support even number, too"
   ]
  },
  {
   "cell_type": "code",
   "execution_count": 37,
   "id": "8a210a78",
   "metadata": {},
   "outputs": [
    {
     "name": "stdout",
     "output_type": "stream",
     "text": [
      "INPUT: [[90, 63, 22, 57, 52], [21, 52, 63, 25, 33], [23, 39, 15, 7, 22], [21, 19, 58, 67, 12], [48, 64, 44, 57, 75]]\n",
      "OUTPUT: **1. Assign an index to each list in JSON format**\n",
      "```json\n",
      "{\n",
      "  \"0\": [90, 63, 22, 57, 52],\n",
      "  \"1\": [21, 52, 63, 25, 33],\n",
      "  \"2\": [23, 39, 15, 7, 22],\n",
      "  \"3\": [21, 19, 58, 67, 12],\n",
      "  \"4\": [48, 64, 44, 57, 75]\n",
      "}\n",
      "```\n",
      "\n",
      "**2. Identify each number in the list is odd or even in a JSON format**\n",
      "\n",
      "```json\n",
      "{\n",
      "  \"0\": {\n",
      "    \"90\": \"even\",\n",
      "    \"63\": \"odd\",\n",
      "    \"22\": \"even\",\n",
      "    \"57\": \"odd\",\n",
      "    \"52\": \"even\"\n",
      "  },\n",
      "  \"1\": {\n",
      "    \"21\": \"odd\",\n",
      "    \"52\": \"even\",\n",
      "    \"63\": \"odd\",\n",
      "    \"25\": \"odd\",\n",
      "    \"33\": \"odd\"\n",
      "  },\n",
      "  \"2\": {\n",
      "    \"23\": \"odd\",\n",
      "    \"39\": \"odd\",\n",
      "    \"15\": \"odd\",\n",
      "    \"7\": \"odd\",\n",
      "    \"22\": \"even\"\n",
      "  },\n",
      "  \"3\": {\n",
      "    \"21\": \"odd\",\n",
      "    \"19\": \"odd\",\n",
      "    \"58\": \"even\",\n",
      "    \"67\": \"odd\",\n",
      "    \"12\": \"even\"\n",
      "  },\n",
      "  \"4\": {\n",
      "    \"48\": \"even\",\n",
      "    \"64\": \"even\",\n",
      "    \"44\": \"even\",\n",
      "    \"57\": \"odd\",\n",
      "    \"75\": \"odd\"\n",
      "  }\n",
      "}\n",
      "```\n",
      "\n",
      "**3. Grab all even numbers are in each list in the json format**\n",
      "\n",
      "```json\n",
      "{\n",
      "  \"0\": [90, 22],\n",
      "  \"1\": [],\n",
      "  \"2\": [22],\n",
      "  \"3\": [58, 12],\n",
      "  \"4\": [48, 64, 44]\n",
      "}\n",
      "```\n",
      "\n",
      "**4. Indicate how many even numbers are in each list in the json format**\n",
      "\n",
      "```json\n",
      "{\n",
      "  \"0\": 2,\n",
      "  \"1\": 0,\n",
      "  \"2\": 1,\n",
      "  \"3\": 2,\n",
      "  \"4\": 3\n",
      "}\n",
      "```\n",
      "\n",
      "**5. Sort the lists in order of how many even numbers they contain. Output a json list, each element is the index of the list, sorted in order of how many even numbers they contain.**\n",
      "\n",
      "```json\n",
      "[1, 2, 3, 0, 4]\n",
      "```\n",
      "\n",
      "**6. Sort the lists in order of how many even numbers they contain. Output a json list, each element is the list input, sorted in order of how many even numbers they contain.**\n",
      "\n",
      "```json\n",
      "[\n",
      "  [21, 52, 63, 25, 33],\n",
      "  [23, 39, 15, 7, 22],\n",
      "  [21, 19, 58, 67, 12],\n",
      "  [90, 63, 22, 57, 52],\n",
      "  [48, 64, 44, 57, 75]\n",
      "]\n",
      "```\n",
      "\n"
     ]
    }
   ],
   "source": [
    "import json\n",
    "# Write your code here.\n",
    "def advanced_prompt_generalize(random_lists, model='gemini-pro', verbose=True, target = \"odd\"):\n",
    "    prompt = f\"\"\"I have some random lists of numbers: {random_lists}. \n",
    "    Please do the following using text only, don't output any code:\n",
    "     1. Assign an index to each list in JSON format, key is index, value is the list.\n",
    "     2. Identify each number in the list is odd or even in a JSON format, for example, if the input lists is [[1, 2, 3, 4, 5], [6, 7, 8, 9, 10]], the output should be {{ \"0\": {{\"1\": \"odd\", \"2\": \"even\", \"3\": \"odd\", \"4\": \"even\", \"5\": \"odd\"}}, \"1\": {{\"6\": \"even\", \"7\": \"odd\", \"8\": \"even\", \"9\": \"odd\", \"10\": \"even\"}} }}.\n",
    "     3. grab all {target} numbers are in each list in the json format, key is index, value is all {target} numbers. Remember, odd numbers ends with 1, 3, 5, 7, 9. You should not include any even numbers that ends with 2, 4, 6, 8, 0. For example, 81, 73, 55, 37, 19 are odd number, while 82, 74, 56, 38, 20 are even numbers.\n",
    "     4. Indicated how many {target} numbers are in each list in the json format, key is index, value is how many {target} numbers it includes.\n",
    "     5. Sort the lists in order of how many {target} numbers they contain. Output a json list, each element is the index of the list, sorted in order of how many {target} numbers they contain.\n",
    "     6. Sort the lists in order of how many {target} numbers they contain. Output a json list, each element is the list input, sorted in order of how many {target} numbers they contain.\"\"\"\n",
    "    \n",
    "    model = genai.GenerativeModel('gemini-pro')\n",
    "    response = model.generate_content(prompt)\n",
    "    if verbose:\n",
    "        print(f\"INPUT: {random_lists}\")\n",
    "        print(f\"OUTPUT: {response.text}\")\n",
    "        print()\n",
    "    return json.loads(response.text.split(\"```\")[-2].replace(\"json\", \"\"))\n",
    "    \n",
    "\n",
    "\n",
    "# Prepare the list useing random\n",
    "import random\n",
    "random_lists = [random.sample(range(1, 100), 5) for _ in range(5)]\n",
    "result = advanced_prompt_generalize(random_lists, target=\"even\")"
   ]
  },
  {
   "cell_type": "markdown",
   "id": "02d167f8",
   "metadata": {},
   "source": [
    "# Writeup 1: Report & Reflection\n",
    "\n",
    "Fill in the following three sections by reflecting on your results."
   ]
  },
  {
   "cell_type": "markdown",
   "id": "5ae368dd",
   "metadata": {},
   "source": [
    "## Reflect on prompting effectiveness\n",
    "\n",
    "Only the sorting can be manipulated by different prompts. I iterate it several times, and now it is super effective in sorting random lists according to the number of odd numbers it contains."
   ]
  },
  {
   "cell_type": "markdown",
   "id": "52d7253b",
   "metadata": {},
   "source": [
    "## Envision possible improvements\n",
    "\n",
    "\n",
    "I have done my best job. Nevertheless, during the evaluation, there was still only a 33% accuracy rate, indicating there is definitely room for improvement. To enhance it, we can use more Chain of Thought to make Gemini work like a judge to assess the correctness of the output.\n",
    "\n"
   ]
  },
  {
   "cell_type": "code",
   "execution_count": null,
   "id": "af851b47",
   "metadata": {},
   "outputs": [],
   "source": []
  }
 ],
 "metadata": {
  "kernelspec": {
   "display_name": "Python 3 (ipykernel)",
   "language": "python",
   "name": "python3"
  },
  "language_info": {
   "codemirror_mode": {
    "name": "ipython",
    "version": 3
   },
   "file_extension": ".py",
   "mimetype": "text/x-python",
   "name": "python",
   "nbconvert_exporter": "python",
   "pygments_lexer": "ipython3",
   "version": "3.11.5"
  }
 },
 "nbformat": 4,
 "nbformat_minor": 5
}
